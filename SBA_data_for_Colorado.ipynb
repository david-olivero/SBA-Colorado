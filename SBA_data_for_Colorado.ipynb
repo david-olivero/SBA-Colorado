{
 "cells": [
  {
   "cell_type": "code",
<<<<<<< HEAD
   "execution_count": 1,
   "metadata": {},
   "outputs": [
    {
     "data": {
      "text/plain": [
       "'C:\\\\Users\\\\David Olivero\\\\AnacondaProjects\\\\SBA\\\\Capstone1'"
      ]
     },
     "execution_count": 1,
     "metadata": {},
     "output_type": "execute_result"
    }
   ],
=======
   "execution_count": null,
   "metadata": {},
   "outputs": [],
>>>>>>> 41c363da893b1a9c003edc368473a0bf91d72704
   "source": [
    "# Import related modules\n",
    "\n",
    "import pandas as pd\n",
    "import numpy as np\n",
    "import os\n",
    "import matplotlib.pyplot as plt\n",
    "\n",
<<<<<<< HEAD
    "%matplotlib inline\n",
    "\n",
=======
    "% matplotlib inline\n",
>>>>>>> 41c363da893b1a9c003edc368473a0bf91d72704
    "os.getcwd()"
   ]
  },
  {
   "cell_type": "code",
   "execution_count": 3,
   "metadata": {},
<<<<<<< HEAD
   "outputs": [
    {
     "data": {
      "text/plain": [
       "'C:\\\\Users\\\\David Olivero\\\\AnacondaProjects\\\\SBA'"
      ]
     },
     "execution_count": 3,
     "metadata": {},
     "output_type": "execute_result"
    }
   ],
   "source": [
    "os.chdir('..')\n",
    "os.getcwd()"
   ]
  },
  {
   "cell_type": "code",
   "execution_count": 5,
   "metadata": {},
=======
>>>>>>> 41c363da893b1a9c003edc368473a0bf91d72704
   "outputs": [],
   "source": [
    "# Read csv file using chunks and add CO-specific rows into a new dataframe\n",
    "\n",
    "file = 'SBAnational.csv'\n",
    "\n",
    "sba_reader = pd.read_csv(file, chunksize=5000)\n",
    "\n",
    "co_data = pd.DataFrame()\n",
    "\n",
    "for sba_chunk in sba_reader:\n",
    "    sba_add = sba_chunk[sba_chunk['State'] == 'CO']\n",
    "    co_data = co_data.append(sba_add)"
   ]
  },
  {
   "cell_type": "code",
<<<<<<< HEAD
   "execution_count": 6,
=======
   "execution_count": 4,
>>>>>>> 41c363da893b1a9c003edc368473a0bf91d72704
   "metadata": {},
   "outputs": [
    {
     "data": {
      "text/plain": [
       "(20605, 27)"
      ]
     },
<<<<<<< HEAD
     "execution_count": 6,
=======
     "execution_count": 4,
>>>>>>> 41c363da893b1a9c003edc368473a0bf91d72704
     "metadata": {},
     "output_type": "execute_result"
    }
   ],
   "source": [
    "co_data.shape"
   ]
  },
  {
   "cell_type": "code",
<<<<<<< HEAD
   "execution_count": 7,
=======
   "execution_count": 5,
>>>>>>> 41c363da893b1a9c003edc368473a0bf91d72704
   "metadata": {
    "scrolled": false
   },
   "outputs": [
    {
     "data": {
      "text/html": [
       "<div>\n",
       "<style scoped>\n",
       "    .dataframe tbody tr th:only-of-type {\n",
       "        vertical-align: middle;\n",
       "    }\n",
       "\n",
       "    .dataframe tbody tr th {\n",
       "        vertical-align: top;\n",
       "    }\n",
       "\n",
       "    .dataframe thead th {\n",
       "        text-align: right;\n",
       "    }\n",
       "</style>\n",
       "<table border=\"1\" class=\"dataframe\">\n",
       "  <thead>\n",
       "    <tr style=\"text-align: right;\">\n",
       "      <th></th>\n",
       "      <th>LoanNr_ChkDgt</th>\n",
       "      <th>Name</th>\n",
       "      <th>City</th>\n",
       "      <th>State</th>\n",
       "      <th>Zip</th>\n",
       "      <th>Bank</th>\n",
       "      <th>BankState</th>\n",
       "      <th>NAICS</th>\n",
       "      <th>ApprovalDate</th>\n",
       "      <th>ApprovalFY</th>\n",
       "      <th>...</th>\n",
       "      <th>RevLineCr</th>\n",
       "      <th>LowDoc</th>\n",
       "      <th>ChgOffDate</th>\n",
       "      <th>DisbursementDate</th>\n",
       "      <th>DisbursementGross</th>\n",
       "      <th>BalanceGross</th>\n",
       "      <th>MIS_Status</th>\n",
       "      <th>ChgOffPrinGr</th>\n",
       "      <th>GrAppv</th>\n",
       "      <th>SBA_Appv</th>\n",
       "    </tr>\n",
       "  </thead>\n",
       "  <tbody>\n",
       "    <tr>\n",
       "      <th>71</th>\n",
       "      <td>1000786003</td>\n",
       "      <td>MICHAEL GADEKEN DDS PC</td>\n",
       "      <td>GRAND JUNCTION</td>\n",
       "      <td>CO</td>\n",
       "      <td>81506</td>\n",
       "      <td>WELLS FARGO BANK NATL ASSOC</td>\n",
       "      <td>SD</td>\n",
       "      <td>621210</td>\n",
       "      <td>7-Feb-06</td>\n",
       "      <td>2006</td>\n",
       "      <td>...</td>\n",
       "      <td>0</td>\n",
       "      <td>N</td>\n",
       "      <td>NaN</td>\n",
       "      <td>31-Mar-06</td>\n",
       "      <td>$1,524,200.00</td>\n",
       "      <td>$0.00</td>\n",
       "      <td>P I F</td>\n",
       "      <td>$0.00</td>\n",
       "      <td>$1,535,000.00</td>\n",
       "      <td>$1,151,250.00</td>\n",
       "    </tr>\n",
       "    <tr>\n",
       "      <th>87</th>\n",
       "      <td>1000885002</td>\n",
       "      <td>Steve Trujillo</td>\n",
       "      <td>Pueblo</td>\n",
       "      <td>CO</td>\n",
       "      <td>81005</td>\n",
       "      <td>WELLS FARGO BANK NATL ASSOC</td>\n",
       "      <td>SD</td>\n",
       "      <td>0</td>\n",
       "      <td>7-Apr-97</td>\n",
       "      <td>1997</td>\n",
       "      <td>...</td>\n",
       "      <td>0</td>\n",
       "      <td>N</td>\n",
       "      <td>NaN</td>\n",
       "      <td>31-Oct-00</td>\n",
       "      <td>$7,015.00</td>\n",
       "      <td>$0.00</td>\n",
       "      <td>P I F</td>\n",
       "      <td>$0.00</td>\n",
       "      <td>$15,000.00</td>\n",
       "      <td>$7,500.00</td>\n",
       "    </tr>\n",
       "    <tr>\n",
       "      <th>89</th>\n",
       "      <td>1000896001</td>\n",
       "      <td>SHAFI SECURITY</td>\n",
       "      <td>THORNTON</td>\n",
       "      <td>CO</td>\n",
       "      <td>80602</td>\n",
       "      <td>JPMORGAN CHASE BANK NATL ASSOC</td>\n",
       "      <td>IL</td>\n",
       "      <td>561612</td>\n",
       "      <td>7-Feb-06</td>\n",
       "      <td>2006</td>\n",
       "      <td>...</td>\n",
       "      <td>Y</td>\n",
       "      <td>N</td>\n",
       "      <td>26-Sep-08</td>\n",
       "      <td>28-Feb-06</td>\n",
       "      <td>$76,432.00</td>\n",
       "      <td>$0.00</td>\n",
       "      <td>CHGOFF</td>\n",
       "      <td>$28,979.00</td>\n",
       "      <td>$30,000.00</td>\n",
       "      <td>$15,000.00</td>\n",
       "    </tr>\n",
       "    <tr>\n",
       "      <th>128</th>\n",
       "      <td>1001144009</td>\n",
       "      <td>DILLON DAM BREWERY</td>\n",
       "      <td>DILLON</td>\n",
       "      <td>CO</td>\n",
       "      <td>80435</td>\n",
       "      <td>WELLS FARGO BANK NATL ASSOC</td>\n",
       "      <td>SD</td>\n",
       "      <td>722410</td>\n",
       "      <td>28-Feb-97</td>\n",
       "      <td>1997</td>\n",
       "      <td>...</td>\n",
       "      <td>0</td>\n",
       "      <td>N</td>\n",
       "      <td>NaN</td>\n",
       "      <td>31-Mar-97</td>\n",
       "      <td>$1,230,000.00</td>\n",
       "      <td>$0.00</td>\n",
       "      <td>P I F</td>\n",
       "      <td>$0.00</td>\n",
       "      <td>$1,230,000.00</td>\n",
       "      <td>$749,992.00</td>\n",
       "    </tr>\n",
       "    <tr>\n",
       "      <th>133</th>\n",
       "      <td>1001165000</td>\n",
       "      <td>Nehemiah Builders</td>\n",
       "      <td>Briggsdale</td>\n",
       "      <td>CO</td>\n",
       "      <td>80611</td>\n",
       "      <td>WELLS FARGO BANK NATL ASSOC</td>\n",
       "      <td>SD</td>\n",
       "      <td>0</td>\n",
       "      <td>14-May-97</td>\n",
       "      <td>1997</td>\n",
       "      <td>...</td>\n",
       "      <td>0</td>\n",
       "      <td>N</td>\n",
       "      <td>NaN</td>\n",
       "      <td>30-Nov-97</td>\n",
       "      <td>$10,000.00</td>\n",
       "      <td>$0.00</td>\n",
       "      <td>P I F</td>\n",
       "      <td>$0.00</td>\n",
       "      <td>$10,000.00</td>\n",
       "      <td>$5,000.00</td>\n",
       "    </tr>\n",
       "  </tbody>\n",
       "</table>\n",
       "<p>5 rows × 27 columns</p>\n",
       "</div>"
      ],
      "text/plain": [
       "     LoanNr_ChkDgt                    Name            City State    Zip  \\\n",
       "71      1000786003  MICHAEL GADEKEN DDS PC  GRAND JUNCTION    CO  81506   \n",
       "87      1000885002          Steve Trujillo          Pueblo    CO  81005   \n",
       "89      1000896001          SHAFI SECURITY        THORNTON    CO  80602   \n",
       "128     1001144009      DILLON DAM BREWERY          DILLON    CO  80435   \n",
       "133     1001165000       Nehemiah Builders      Briggsdale    CO  80611   \n",
       "\n",
       "                               Bank BankState   NAICS ApprovalDate ApprovalFY  \\\n",
       "71      WELLS FARGO BANK NATL ASSOC        SD  621210     7-Feb-06       2006   \n",
       "87      WELLS FARGO BANK NATL ASSOC        SD       0     7-Apr-97       1997   \n",
       "89   JPMORGAN CHASE BANK NATL ASSOC        IL  561612     7-Feb-06       2006   \n",
       "128     WELLS FARGO BANK NATL ASSOC        SD  722410    28-Feb-97       1997   \n",
       "133     WELLS FARGO BANK NATL ASSOC        SD       0    14-May-97       1997   \n",
       "\n",
       "     ...  RevLineCr  LowDoc  ChgOffDate  DisbursementDate  DisbursementGross  \\\n",
       "71   ...          0       N         NaN         31-Mar-06     $1,524,200.00    \n",
       "87   ...          0       N         NaN         31-Oct-00         $7,015.00    \n",
       "89   ...          Y       N   26-Sep-08         28-Feb-06        $76,432.00    \n",
       "128  ...          0       N         NaN         31-Mar-97     $1,230,000.00    \n",
       "133  ...          0       N         NaN         30-Nov-97        $10,000.00    \n",
       "\n",
       "     BalanceGross  MIS_Status ChgOffPrinGr          GrAppv        SBA_Appv  \n",
       "71         $0.00        P I F       $0.00   $1,535,000.00   $1,151,250.00   \n",
       "87         $0.00        P I F       $0.00      $15,000.00       $7,500.00   \n",
       "89         $0.00       CHGOFF  $28,979.00      $30,000.00      $15,000.00   \n",
       "128        $0.00        P I F       $0.00   $1,230,000.00     $749,992.00   \n",
       "133        $0.00        P I F       $0.00      $10,000.00       $5,000.00   \n",
       "\n",
       "[5 rows x 27 columns]"
      ]
     },
<<<<<<< HEAD
     "execution_count": 7,
=======
     "execution_count": 5,
>>>>>>> 41c363da893b1a9c003edc368473a0bf91d72704
     "metadata": {},
     "output_type": "execute_result"
    }
   ],
   "source": [
    "co_data.head()"
   ]
  },
  {
   "cell_type": "code",
   "execution_count": 8,
   "metadata": {},
   "outputs": [
    {
     "name": "stdout",
     "output_type": "stream",
     "text": [
      "P I F     16927\n",
      "CHGOFF     3671\n",
      "Name: MIS_Status, dtype: int64\n"
     ]
    }
   ],
   "source": [
    "print(co_data['MIS_Status'].value_counts())"
   ]
  },
  {
   "cell_type": "code",
<<<<<<< HEAD
   "execution_count": 37,
   "metadata": {},
   "outputs": [],
   "source": [
    "loan_years = pd.DataFrame(co_data['ApprovalFY'].value_counts())\n",
    "loan_years['Year'] = loan_years.index\n",
    "loan_years['Year'] = pd.to_numeric(loan_years['Year'])\n",
    "loan_years = loan_years.sort_values('Year', ascending=False)"
   ]
  },
  {
   "cell_type": "code",
   "execution_count": 38,
   "metadata": {},
   "outputs": [
    {
     "data": {
      "text/html": [
       "<div>\n",
       "<style scoped>\n",
       "    .dataframe tbody tr th:only-of-type {\n",
       "        vertical-align: middle;\n",
       "    }\n",
       "\n",
       "    .dataframe tbody tr th {\n",
       "        vertical-align: top;\n",
       "    }\n",
       "\n",
       "    .dataframe thead th {\n",
       "        text-align: right;\n",
       "    }\n",
       "</style>\n",
       "<table border=\"1\" class=\"dataframe\">\n",
       "  <thead>\n",
       "    <tr style=\"text-align: right;\">\n",
       "      <th></th>\n",
       "      <th>ApprovalFY</th>\n",
       "      <th>Year</th>\n",
       "    </tr>\n",
       "  </thead>\n",
       "  <tbody>\n",
       "    <tr>\n",
       "      <th>2014</th>\n",
       "      <td>4</td>\n",
       "      <td>2014</td>\n",
       "    </tr>\n",
       "    <tr>\n",
       "      <th>2013</th>\n",
       "      <td>64</td>\n",
       "      <td>2013</td>\n",
       "    </tr>\n",
       "    <tr>\n",
       "      <th>2012</th>\n",
       "      <td>134</td>\n",
       "      <td>2012</td>\n",
       "    </tr>\n",
       "    <tr>\n",
       "      <th>2011</th>\n",
       "      <td>307</td>\n",
       "      <td>2011</td>\n",
       "    </tr>\n",
       "    <tr>\n",
       "      <th>2010</th>\n",
       "      <td>420</td>\n",
       "      <td>2010</td>\n",
       "    </tr>\n",
       "  </tbody>\n",
       "</table>\n",
       "</div>"
      ],
      "text/plain": [
       "      ApprovalFY  Year\n",
       "2014           4  2014\n",
       "2013          64  2013\n",
       "2012         134  2012\n",
       "2011         307  2011\n",
       "2010         420  2010"
      ]
     },
     "execution_count": 38,
     "metadata": {},
     "output_type": "execute_result"
    }
   ],
   "source": [
    "loan_years.head()"
   ]
  },
  {
   "cell_type": "code",
   "execution_count": 39,
   "metadata": {},
   "outputs": [
    {
     "data": {
      "image/png": "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\n",
      "text/plain": [
       "<Figure size 432x288 with 1 Axes>"
      ]
     },
     "metadata": {
      "needs_background": "light"
     },
     "output_type": "display_data"
    }
   ],
   "source": [
    "fig = plt.figure()\n",
    "ax = fig.add_subplot(111)\n",
    "ax.plot(loan_years['Year'], loan_years['ApprovalFY'], color='blue', linewidth=3)\n",
    "plt.xlabel('Year Loan Approved')\n",
    "plt.ylabel('Number of SBA Loans')\n",
    "plt.title('Number of SBA Loans Approved in Colorado By Year')\n",
    "plt.show()"
   ]
  },
  {
   "cell_type": "code",
   "execution_count": 40,
   "metadata": {},
   "outputs": [
    {
     "data": {
      "image/png": "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\n",
      "text/plain": [
       "<Figure size 432x288 with 1 Axes>"
      ]
     },
     "metadata": {
      "needs_background": "light"
     },
     "output_type": "display_data"
    }
   ],
   "source": [
    "co_data['ApprovalFY'] = pd.to_numeric(co_data['ApprovalFY'])\n",
    "plt.hist(co_data['ApprovalFY'], bins=30, cumulative=True, density=True)\n",
    "plt.show()"
   ]
  },
  {
   "cell_type": "code",
   "execution_count": 43,
   "metadata": {},
   "outputs": [
    {
     "data": {
      "text/html": [
       "<div>\n",
       "<style scoped>\n",
       "    .dataframe tbody tr th:only-of-type {\n",
       "        vertical-align: middle;\n",
       "    }\n",
       "\n",
       "    .dataframe tbody tr th {\n",
       "        vertical-align: top;\n",
       "    }\n",
       "\n",
       "    .dataframe thead th {\n",
       "        text-align: right;\n",
       "    }\n",
       "</style>\n",
       "<table border=\"1\" class=\"dataframe\">\n",
       "  <thead>\n",
       "    <tr style=\"text-align: right;\">\n",
       "      <th></th>\n",
       "      <th>count</th>\n",
       "      <th>mean</th>\n",
       "      <th>std</th>\n",
       "      <th>min</th>\n",
       "      <th>25%</th>\n",
       "      <th>50%</th>\n",
       "      <th>75%</th>\n",
       "      <th>max</th>\n",
       "    </tr>\n",
       "  </thead>\n",
       "  <tbody>\n",
       "    <tr>\n",
       "      <th>LoanNr_ChkDgt</th>\n",
       "      <td>20605.0</td>\n",
       "      <td>4.953539e+09</td>\n",
       "      <td>2.571807e+09</td>\n",
       "      <td>1.000786e+09</td>\n",
       "      <td>2.669615e+09</td>\n",
       "      <td>4.582944e+09</td>\n",
       "      <td>7.291144e+09</td>\n",
       "      <td>9.994893e+09</td>\n",
       "    </tr>\n",
       "    <tr>\n",
       "      <th>Zip</th>\n",
       "      <td>20605.0</td>\n",
       "      <td>8.041962e+04</td>\n",
       "      <td>2.554372e+03</td>\n",
       "      <td>0.000000e+00</td>\n",
       "      <td>8.012700e+04</td>\n",
       "      <td>8.024100e+04</td>\n",
       "      <td>8.090300e+04</td>\n",
       "      <td>9.999900e+04</td>\n",
       "    </tr>\n",
       "    <tr>\n",
       "      <th>NAICS</th>\n",
       "      <td>20605.0</td>\n",
       "      <td>3.949357e+05</td>\n",
       "      <td>2.637923e+05</td>\n",
       "      <td>0.000000e+00</td>\n",
       "      <td>2.353100e+05</td>\n",
       "      <td>4.453100e+05</td>\n",
       "      <td>5.617200e+05</td>\n",
       "      <td>9.241100e+05</td>\n",
       "    </tr>\n",
       "    <tr>\n",
       "      <th>ApprovalFY</th>\n",
       "      <td>20605.0</td>\n",
       "      <td>2.001192e+03</td>\n",
       "      <td>5.899405e+00</td>\n",
       "      <td>1.970000e+03</td>\n",
       "      <td>1.996000e+03</td>\n",
       "      <td>2.002000e+03</td>\n",
       "      <td>2.006000e+03</td>\n",
       "      <td>2.014000e+03</td>\n",
       "    </tr>\n",
       "    <tr>\n",
       "      <th>Term</th>\n",
       "      <td>20605.0</td>\n",
       "      <td>1.253264e+02</td>\n",
       "      <td>8.534306e+01</td>\n",
       "      <td>0.000000e+00</td>\n",
       "      <td>6.600000e+01</td>\n",
       "      <td>8.400000e+01</td>\n",
       "      <td>1.870000e+02</td>\n",
       "      <td>3.720000e+02</td>\n",
       "    </tr>\n",
       "    <tr>\n",
       "      <th>NoEmp</th>\n",
       "      <td>20605.0</td>\n",
       "      <td>1.073997e+01</td>\n",
       "      <td>4.092590e+01</td>\n",
       "      <td>0.000000e+00</td>\n",
       "      <td>2.000000e+00</td>\n",
       "      <td>4.000000e+00</td>\n",
       "      <td>1.100000e+01</td>\n",
       "      <td>4.847000e+03</td>\n",
       "    </tr>\n",
       "    <tr>\n",
       "      <th>NewExist</th>\n",
       "      <td>20603.0</td>\n",
       "      <td>1.232636e+00</td>\n",
       "      <td>4.244708e-01</td>\n",
       "      <td>0.000000e+00</td>\n",
       "      <td>1.000000e+00</td>\n",
       "      <td>1.000000e+00</td>\n",
       "      <td>1.000000e+00</td>\n",
       "      <td>2.000000e+00</td>\n",
       "    </tr>\n",
       "    <tr>\n",
       "      <th>CreateJob</th>\n",
       "      <td>20605.0</td>\n",
       "      <td>6.655957e+00</td>\n",
       "      <td>1.941258e+02</td>\n",
       "      <td>0.000000e+00</td>\n",
       "      <td>0.000000e+00</td>\n",
       "      <td>0.000000e+00</td>\n",
       "      <td>1.000000e+00</td>\n",
       "      <td>8.800000e+03</td>\n",
       "    </tr>\n",
       "    <tr>\n",
       "      <th>RetainedJob</th>\n",
       "      <td>20605.0</td>\n",
       "      <td>8.901723e+00</td>\n",
       "      <td>1.959430e+02</td>\n",
       "      <td>0.000000e+00</td>\n",
       "      <td>0.000000e+00</td>\n",
       "      <td>1.000000e+00</td>\n",
       "      <td>4.000000e+00</td>\n",
       "      <td>8.800000e+03</td>\n",
       "    </tr>\n",
       "    <tr>\n",
       "      <th>FranchiseCode</th>\n",
       "      <td>20605.0</td>\n",
       "      <td>2.762103e+03</td>\n",
       "      <td>1.263836e+04</td>\n",
       "      <td>0.000000e+00</td>\n",
       "      <td>1.000000e+00</td>\n",
       "      <td>1.000000e+00</td>\n",
       "      <td>1.000000e+00</td>\n",
       "      <td>9.125300e+04</td>\n",
       "    </tr>\n",
       "    <tr>\n",
       "      <th>UrbanRural</th>\n",
       "      <td>20605.0</td>\n",
       "      <td>7.116234e-01</td>\n",
       "      <td>6.063177e-01</td>\n",
       "      <td>0.000000e+00</td>\n",
       "      <td>0.000000e+00</td>\n",
       "      <td>1.000000e+00</td>\n",
       "      <td>1.000000e+00</td>\n",
       "      <td>2.000000e+00</td>\n",
       "    </tr>\n",
       "    <tr>\n",
       "      <th>AppovalFY</th>\n",
       "      <td>20605.0</td>\n",
       "      <td>2.001192e+03</td>\n",
       "      <td>5.899405e+00</td>\n",
       "      <td>1.970000e+03</td>\n",
       "      <td>1.996000e+03</td>\n",
       "      <td>2.002000e+03</td>\n",
       "      <td>2.006000e+03</td>\n",
       "      <td>2.014000e+03</td>\n",
       "    </tr>\n",
       "  </tbody>\n",
       "</table>\n",
       "</div>"
      ],
      "text/plain": [
       "                 count          mean           std           min  \\\n",
       "LoanNr_ChkDgt  20605.0  4.953539e+09  2.571807e+09  1.000786e+09   \n",
       "Zip            20605.0  8.041962e+04  2.554372e+03  0.000000e+00   \n",
       "NAICS          20605.0  3.949357e+05  2.637923e+05  0.000000e+00   \n",
       "ApprovalFY     20605.0  2.001192e+03  5.899405e+00  1.970000e+03   \n",
       "Term           20605.0  1.253264e+02  8.534306e+01  0.000000e+00   \n",
       "NoEmp          20605.0  1.073997e+01  4.092590e+01  0.000000e+00   \n",
       "NewExist       20603.0  1.232636e+00  4.244708e-01  0.000000e+00   \n",
       "CreateJob      20605.0  6.655957e+00  1.941258e+02  0.000000e+00   \n",
       "RetainedJob    20605.0  8.901723e+00  1.959430e+02  0.000000e+00   \n",
       "FranchiseCode  20605.0  2.762103e+03  1.263836e+04  0.000000e+00   \n",
       "UrbanRural     20605.0  7.116234e-01  6.063177e-01  0.000000e+00   \n",
       "AppovalFY      20605.0  2.001192e+03  5.899405e+00  1.970000e+03   \n",
       "\n",
       "                        25%           50%           75%           max  \n",
       "LoanNr_ChkDgt  2.669615e+09  4.582944e+09  7.291144e+09  9.994893e+09  \n",
       "Zip            8.012700e+04  8.024100e+04  8.090300e+04  9.999900e+04  \n",
       "NAICS          2.353100e+05  4.453100e+05  5.617200e+05  9.241100e+05  \n",
       "ApprovalFY     1.996000e+03  2.002000e+03  2.006000e+03  2.014000e+03  \n",
       "Term           6.600000e+01  8.400000e+01  1.870000e+02  3.720000e+02  \n",
       "NoEmp          2.000000e+00  4.000000e+00  1.100000e+01  4.847000e+03  \n",
       "NewExist       1.000000e+00  1.000000e+00  1.000000e+00  2.000000e+00  \n",
       "CreateJob      0.000000e+00  0.000000e+00  1.000000e+00  8.800000e+03  \n",
       "RetainedJob    0.000000e+00  1.000000e+00  4.000000e+00  8.800000e+03  \n",
       "FranchiseCode  1.000000e+00  1.000000e+00  1.000000e+00  9.125300e+04  \n",
       "UrbanRural     0.000000e+00  1.000000e+00  1.000000e+00  2.000000e+00  \n",
       "AppovalFY      1.996000e+03  2.002000e+03  2.006000e+03  2.014000e+03  "
      ]
     },
     "execution_count": 43,
     "metadata": {},
     "output_type": "execute_result"
    }
   ],
   "source": [
    "co_data.describe().T"
   ]
  },
  {
   "cell_type": "code",
   "execution_count": 44,
   "metadata": {},
   "outputs": [
    {
     "name": "stdout",
     "output_type": "stream",
     "text": [
      "<class 'pandas.core.frame.DataFrame'>\n",
      "Int64Index: 20605 entries, 71 to 899122\n",
      "Data columns (total 28 columns):\n",
      " #   Column             Non-Null Count  Dtype  \n",
      "---  ------             --------------  -----  \n",
      " 0   LoanNr_ChkDgt      20605 non-null  int64  \n",
      " 1   Name               20605 non-null  object \n",
      " 2   City               20605 non-null  object \n",
      " 3   State              20605 non-null  object \n",
      " 4   Zip                20605 non-null  int64  \n",
      " 5   Bank               20575 non-null  object \n",
      " 6   BankState          20575 non-null  object \n",
      " 7   NAICS              20605 non-null  int64  \n",
      " 8   ApprovalDate       20605 non-null  object \n",
      " 9   ApprovalFY         20605 non-null  int64  \n",
      " 10  Term               20605 non-null  int64  \n",
      " 11  NoEmp              20605 non-null  int64  \n",
      " 12  NewExist           20603 non-null  float64\n",
      " 13  CreateJob          20605 non-null  int64  \n",
      " 14  RetainedJob        20605 non-null  int64  \n",
      " 15  FranchiseCode      20605 non-null  int64  \n",
      " 16  UrbanRural         20605 non-null  int64  \n",
      " 17  RevLineCr          20479 non-null  object \n",
      " 18  LowDoc             20548 non-null  object \n",
      " 19  ChgOffDate         3730 non-null   object \n",
      " 20  DisbursementDate   20558 non-null  object \n",
      " 21  DisbursementGross  20605 non-null  object \n",
      " 22  BalanceGross       20605 non-null  object \n",
      " 23  MIS_Status         20598 non-null  object \n",
      " 24  ChgOffPrinGr       20605 non-null  object \n",
      " 25  GrAppv             20605 non-null  object \n",
      " 26  SBA_Appv           20605 non-null  object \n",
      " 27  AppovalFY          20605 non-null  int64  \n",
      "dtypes: float64(1), int64(11), object(16)\n",
      "memory usage: 4.6+ MB\n"
     ]
    }
   ],
   "source": [
    "co_data.info()"
   ]
  },
  {
   "cell_type": "code",
   "execution_count": 67,
   "metadata": {},
   "outputs": [],
   "source": [
    "approved = pd.DataFrame()\n",
    "\n",
    "for yr in range(1975,2014):\n",
    "    data = co_data[co_data['ApprovalFY'] == yr]\n",
    "    good = data['MIS_Status'].value_counts('P I F')\n",
    "#    approved[yr] = good[0]\n",
    "    approved = approved.append(good)"
   ]
  },
  {
   "cell_type": "code",
   "execution_count": 71,
   "metadata": {},
   "outputs": [
    {
     "data": {
      "text/html": [
       "<div>\n",
       "<style scoped>\n",
       "    .dataframe tbody tr th:only-of-type {\n",
       "        vertical-align: middle;\n",
       "    }\n",
       "\n",
       "    .dataframe tbody tr th {\n",
       "        vertical-align: top;\n",
       "    }\n",
       "\n",
       "    .dataframe thead th {\n",
       "        text-align: right;\n",
       "    }\n",
       "</style>\n",
       "<table border=\"1\" class=\"dataframe\">\n",
       "  <thead>\n",
       "    <tr style=\"text-align: right;\">\n",
       "      <th></th>\n",
       "      <th>CHGOFF</th>\n",
       "      <th>P I F</th>\n",
       "    </tr>\n",
       "  </thead>\n",
       "  <tbody>\n",
       "    <tr>\n",
       "      <th>2009</th>\n",
       "      <td>0.206977</td>\n",
       "      <td>0.793023</td>\n",
       "    </tr>\n",
       "    <tr>\n",
       "      <th>2010</th>\n",
       "      <td>0.121429</td>\n",
       "      <td>0.878571</td>\n",
       "    </tr>\n",
       "    <tr>\n",
       "      <th>2011</th>\n",
       "      <td>0.087948</td>\n",
       "      <td>0.912052</td>\n",
       "    </tr>\n",
       "    <tr>\n",
       "      <th>2012</th>\n",
       "      <td>0.059701</td>\n",
       "      <td>0.940299</td>\n",
       "    </tr>\n",
       "    <tr>\n",
       "      <th>2013</th>\n",
       "      <td>0.031250</td>\n",
       "      <td>0.968750</td>\n",
       "    </tr>\n",
       "  </tbody>\n",
       "</table>\n",
       "</div>"
      ],
      "text/plain": [
       "        CHGOFF     P I F\n",
       "2009  0.206977  0.793023\n",
       "2010  0.121429  0.878571\n",
       "2011  0.087948  0.912052\n",
       "2012  0.059701  0.940299\n",
       "2013  0.031250  0.968750"
      ]
     },
     "execution_count": 71,
     "metadata": {},
     "output_type": "execute_result"
    }
   ],
   "source": [
    "approved.index = range(1975,2014)\n",
    "approved.tail()"
   ]
  },
  {
   "cell_type": "code",
   "execution_count": 74,
   "metadata": {},
   "outputs": [
    {
     "data": {
      "image/png": "iVBORw0KGgoAAAANSUhEUgAAAYIAAAEWCAYAAABrDZDcAAAABHNCSVQICAgIfAhkiAAAAAlwSFlzAAALEgAACxIB0t1+/AAAADh0RVh0U29mdHdhcmUAbWF0cGxvdGxpYiB2ZXJzaW9uMy4xLjMsIGh0dHA6Ly9tYXRwbG90bGliLm9yZy+AADFEAAAgAElEQVR4nO3dd5wU9f3H8dcbkKYIKogKCCiigmLhRBNsJDY0dqOiRmKJMZZoTDT60xg1GqMmEXuLWGOvGI3EjhrboYCgooigiAWVJr18fn98Z7Nzx5W5u92d3dvP8/GYx83Mzs58du9uP/st8/3KzHDOOVe+WqQdgHPOuXR5InDOuTLnicA558qcJwLnnCtzngicc67MeSJwzrky54nAVSFpV0kzCni9aZJ2K9T1XHKSTFKftONw+eeJoJmSdISkSknfS/pC0r8l7Zh2XLkiqbWkv0maEb3GTyRdGXt8mqRF0WOzJT0pqUcN57kg+sAbVM/1LpB0dz5eS1NFyXtl9FrnS5os6ZjosV7R62sVbd8uaWl0bGY5LI+x9Zc0V1Lfavufk3Rpvq7rGsYTQTMk6QxgBPBnoCuwIXA9sH+er9syn+ev5hygAhgEdACGAO9UO2ZfM1sDWB/4Crgm/qAkAT8DvgOG5zvgPJsZvdY1gd8Dt0jqV8uxl5vZGrHl/nwFZWaTgL8Ct0bvN5KOA7oBF+byWplk5xrOE0EzI6kjcBFwspk9YmYLzGyZmT1hZmdGx7SRNELSzGgZIalNLefbXNKLkuZImiRpv9hjt0u6QdJTkhYAQyTtI+kdSfMkfSbpgmrn+5mk6ZK+lXRutccSxwVsBzxqZjMtmGZmd9Z0oJktBh4Cqn8w7gRsAJwGHC6pdS3XqlM971Gt70fs2/pwSZ9K+ib+nkgaFJXq5kn6StLf64slei8eA2bX8HobY29JU6PYrpDUIvo9fSdpy1is60YlsC41nONSYA3gJEldgcuAY6PfC5L6SXo2OucHkg6OnXc/SeOiks6nkv4Qe6xP9P4dI+lT4D85eL3lycx8aUYLsBewHGhVxzEXAa8D6wJdgP8Cf4oe2xWYEa2vBkwB/g9oDfwImA9sGj1+OzAXGEz4UtE2ev6W0fYAwjfxA6Lj+wHfAzsDbYC/R7HuVl9cNbyG84BPgZOi66na49Ni520P3AHcWe2YW4EHotf5LXBQHe/ZBcDdNeyv7z2q6/3oBRhwC9AO2ApYAmwePf4a8LNofQ1gh1pii//OWgAHAsuATWPXaBX7nV2c8G/JgBeAtQmlyg+B46PHrgcuix17GvBEHefahlDyegYYEdvfAfgcOBpoBQyMfheZ9+9HwBbR69oK+Ab4SfRYnyjG26Lfcbu0//9KdUk9AF9y/AuFI4Ev6znmY2Dv2PaewLRoPf6hshPwJdAiduy9wAXR+u3VP1xruNYI4Mpo/XzgvthjqwNLyX5g1xpXDedtCZwMvBp9eM4Ehscen0ZIOnMIyWYmsGXs8fbAPLIfyjcBj9fxOi6g5kRQ53tUz/uR+ZDuHnv8TeDwaH0Mofqkcz3v8a7Ayui1fgeMi50jc414IlgcHTsH+KaO8xqwV2z7JOC5aH174LPM6wYqgUPrifMKYAbQvtrf6wvVjrsVOLeWc1wLXBGtZxLBhmn+zzWHxauGmp9vgc711JduAEyPbU+P9tV03GdmtrLasd1i25/FnyBpe0kvSJolaS5wItA5fr7MsWa2IIq3oXFhZivM7DozGwx0Ai4BRkraPHbYAWbWiVD6OAV4SdJ60WMHEhLEU9H2P4GhtVRt1KXO96ie9yPjy9j6QsK3f4DjgL7AB5LekvSTOuKYaWadzGxtM9vazO6r49i/Rsd2MrPqsVQX//3+7/dhZm8AC4BdJG1G+FAeVc+5JhES+8LYvp7A4KhabY6kOcBhhHYdJP0gqnbLvH/Hs+r79xmuSTwRND+vEb7xHVDHMTMJ/4AZG0b7ajquh6QW1Y79PLZdffjaewgfCD3MrCNwI6DosS+A//XckdQeWKcRcVVhZovM7DpqqRePksYjwAog03NqOOED91NJXwIPEqp5htV3vWrqe4/qej/qe10fmdkwQlXZZcBDklZvYHxNFe9pVf33cQdwFKHB/SGL6vwb6DNCKaNTbFnDzE6JHr8PeJjs+/cPqr1/FhUPXON5ImhmzGwuoQrmOkkHSGovaTVJQyVdHh12L3CepC6SOkfH19Q1MvOt76zoHLsC+xL+OWvTAfjOzBYrdMk8IvbYQ8BPJO0YNcxeRNW/waRxIel0hW6T7SS1kjQ8unb1nkMo2B9YC3hfUjfgx8BPgK2jZSvCh21dvYdaSGobW9okeI/qej/qJOkoSV2i0sacaPeKpM/PkTMlraXQ9fY0IN7D6C5CyeoooMaG+gRGAf0VujuvFi2DJG0aPR5//3YADm/kdVwdPBE0Q2b2d+AMQoPqLMK3rlOAx6JDLibU6U4A3gXejvZVP89SYD9gKKGR7nrgaDP7oI7LnwRcJGk+4YP8gdj5JhHq9e8hlA5mE+qMMxLFFVkE/I1QrfJNdN6DzWxq7JgnJH1PaAu4hNCGMInwDXacmf3HzL7MLMDVwABJW9RyzWHRdTPLxwneo1rfjwT2AiZFr+EqQr1/Y751N8XjwFhCu8OThPp7AMxsBuF3ZMDLjTl59MVlT0Iy+YLw+7yUUJ0H8Cvg0uj9+z8a9v65hOSlKudcY0kaSWifOC/tWFzj+Q0YzrlGkdQLOIjQNdSVMK8acs41mKQ/ARMJXTk/STse1zReNeScc2XOSwTOOVfmSq6NoHPnztarV6+0w3DOuZIyduzYb8ysxhsmSy4R9OrVi8rKyrTDcM65kiJpem2PedWQc86VOU8EzjlX5vKWCCSNlPS1pIm1PC5JV0uaImmCpG3zFYtzzrna5bNEcDvhFvnaDAU2iZYTgBvyGItzzrla5C0RmNkYwtjotdmfMJa9mdnrQCdJ6+crHuecczVLs42gG1XHEZ9B1XHu/0fSCdGUfZWzZs0qSHDOOVcu0kwENY3JXuNtzmZ2s5lVmFlFly4NnTfEFQMzmDMHJk2CV16B6dNh5cr6n+ecy7807yOYQdVJL7qTYBISV5xWroR33oGpU2HmTPj886rLzJmwcGHV57RtC336QN++Ydlkk+x6ly6gRNO3OOeaKs1EMAo4RdJ9hPlP55rZFynG45rgl7+Ef/yjYc9ZvBgmTgxLdR07Qu/e0KEDtG8P7dqFn5klvt21K+y4I/Tq5cnDucbIWyKQdC9hUu3OkmYAfyRMBYiZ3UiYK3ZvYAphntZj8hWLy6977kmWBNq3h27doFOnUDX09de1Hzt3Lowb17A4evSAXXeFXXYJPzfayBODc0mU3OijFRUV5kNMFI9PPoGtt4Z588J2RQVst134wI8vG2wQvuXHP5jnzIGPPoIPP1x1+f77psfWrVvVxNCnjycGV74kjTWzihof80TgGmv58vAB++qrYXvjjUM7QYcOTTuvGXz5JcyYEdoVFi6ERYuy6/HtBQvg/fdDA3R9yWPzzeHWW+EHP2hafM6VoroSQckNOueKx5//nE0CLVuGKqKmJgEI39rXXz8sSS1fDm+/DS++CC+9BC+/DPPnVz3m/fdhp53gwgvh7LNDzM6VioULQ/VqPvhYQ65RXnsNLroou33hhTBoUHrxtGoVrn/WWfDkk/Ddd/Dmm3DFFbDPPtl/oBUr4LzzYLfdQm8m50rBlCmwxRYwcmR+zu9VQ67B5s0L7QKfRBMU7rQTvPBCcX/Dnj4djjgC/vvf7L611w7/WPvvn15cztXnnXdgr71C54oWLeDhh+GAAxp+nrqqhrxE4BrslFOySaBjR7j77uJOAgA9e4Yqo/PPD/9MEEoNBxwAJ58c2hycKzYvvRTa4TI97Fq3DqXfXPNE4Brk3nvhrruy2zfdBBtumF48DdGqVajCeuEF6N49u//660O10qRJ6cXmXHWPPw577pntkdepEzzzDPzkJ7m/licCl9i0aXDiidnt4cPhsMNSC6fRdt4Zxo+HAw/M7ps4MXR9vfHG0GvJuTTddhscdBAsWRK2118/lA523DE/1/NE4BJZvhx+9rPst5ONNoJrrkk3pqZYe+1Q13rjjWGoCwh3Ov/qV/CjH8HNN4curM4V2hVXwLHHZsfi2njj0DtvwID8XdMTgUvk0ktDX33IbVfRNElhaIzKytAjI+PFF8P+DTYI9xxcdhlMnpxamK5MmIVeb2edld239dYhCfTund9reyJw9Xr99VC3nnHBBbD99qmFk3P9+4eupiefXPXOY7Pw2s8+GzbbLNyQds45YZ+PnOpyaflyOO64UBrI2GWX8KWka9f8X9+7j7parVgBEybAIYeEUUUh1FG++GLx9xJqrGnTQiPdY4/BmDG1f+Cvtx4cfHBoIxk8ONsTybmGWrwYDj88/N1l7L8/3HdfttoyF3yICZfIsmXh7tyXXgofgq+8EgZ/y+jYMTSy9uyZXoyF9O234ea0xx6Dp5+uvYtpt24hIRx+eGhw9vGMXFJz54YP/Zdeyu475pjQRpXrbqKeCFyNFi+GN94IH/pjxoSbrarPGRB3773hw64cLVoEzz4bksKoUfDNNzUft9FGISkcdlho3POk4Grz5ZcwdGjVUXbPPDO0SeXj78YTgVvFxx+HOsj6hllYb71w3DHHhD7NLlSZvfwy3H8/PPhgKDnUZLPNQuI89dTQS8m5jI8/hj32yFa5Alx+eUgE+eKJwK3iz3+Gc89ddX/PnuGDf+edw8+NN/ZvtXVZtgyefz4khUceqVqVltGnTzimR49VH3Pl5513Qkngq6/CdsuWYT6Pn/88v9f10UfdKjJ/hABDhoR+yzvtVD71/7my2mqhpLTnnnDDDTB6dGjkGzUqDJENYcCwXXYJyaBXr1TDdSl78UXYb7/syLht28IDD8C++6YalncfLVfx6ozhw+GoozwJNFWbNuGf/J57wtgwt9wSEgWEsZl23jkkBVeeHnkkfGHIJIFOnUK7U9pJADwRlK14IlhnnfTiaK7at4fjjw+Ny23ahH2ffRZKBn5zWvm5+Wb46U9h6dKwvcEGoZ1p8OB048rwRFCm4onAGzLzZ++94YknoF27sD1zZkgGPsBdeTCDP/0p3KmeuSelb9/QQy9+N3vaam0jkPQuUFNLsgAzszyOfOHyzUsEhbP77vDUU2HUyAULQvvMrruGaoGttko7OpcvK1fCr38N112X3bfdduHelC5d0ourJnU1FudhsFNXLDwRFNauu4aG5KFDQx3xN9+ERvpnnoGBA9OOzuXa0qVw9NGhN1nG7ruHdoI11kgvrtrUWjVkZtPrWgoZpMut5cuz3RwlWGutdOMpF4MHhw/+jh3D9uzZ8OMfh5v6XPOxYkXogBFPAocfDv/6V3EmAagjEUiaL2leDct8SfMKGaTLre++y6536tR8xw0qRttvD889l22XmTs3fFPMjOzqSptZuIHwvvuy+045Bf75zzC7WLGqq0TQwczWrGHpYGZrJjm5pL0kTZY0RdLZNTzeU9JzkiZIelFS95rO43LLq4XSNXBguKegc+ewPX9+mJM2Pt6MK03nnx/uJ8k45RS4+uriH5Sw3vAkbVjTkuB5LYHrgKFAP2CYpH7VDvsrcGfU8HwRcGnDX4JrKE8E6dtqq6pDDC9YEHoYeTIoXSNGwMUXZ7ePPBKuuqo07sxPkqeejC3PAVOBfyd43iBgiplNNbOlwH3A/tWO6RedE+CFGh53eeCJoDj07x8++NdfP2wvXBiSwZgx6cblGu7OO+E3v8lu77NPmG6y2EsCGfWGaWZbxpZNCB/wSWo0uwGfxbZnRPvixgMHR+sHAh0krfLRJOkESZWSKmfNmpXg0q4u8TYCTwTp2nTTUDKongxefjnVsFwDjBoVhmjJ2HHHMGxE5q7yUtDgfGVmbwPbJTi0pgJR9fsSfgfsIukdYBfgc2B5Dde82cwqzKyiS7F1wC1BXiIoLn37wgsvZJPBggWhm6k3IBe/F1+EQw8NPYUgVPk98US4s7yU1DvonKQzYpstgG2BJF/LZwDx8Ra7AzPjB5jZTOCg6DprAAebWQ3jN7pc8kRQfDbdNCSDXXcN49RnksHTTxfPMASuqrFjw9hSS5aE7Y03Dr+vTp3SjasxkpQIOsSWNoS2giR1+W8Bm0jqLak1cDgwKn6ApM6SMjGcA4xMGrhrPE8ExSmTDNZbL2x//33oTfTqq+nG5Vb1wQfhd5MZQG6DDcI9IpnfXampa4iJVma23MwurO2YupjZckmnAKOBlsBIM5sk6SKg0sxGAbsCl0oyYAxwcmOu5RrGxxkqXpttli0ZfPVVNhmMHg0//GHa0TmATz8Nk8pkZqlba63w++ndO924mqKuEsGbmRVJ1zTm5Gb2lJn1NbONzeySaN/5URLAzB4ys02iY443syWNuY5rGC8RFLdMMlh33bCdSQavvZZuXC405u+5ZxhJFmD11cM4UsU0gFxj1JUI4o29XkvZjHgiKH6bb141GcyfHz6AXn893bjK3T//GaqFIPQKevRR2GGHdGPKhboSQWnNYekS80RQGvr1C3cgZzrKZZLB88+nG1c5u+uu7PrFF4fhQZqDuhLBZtHQD+/G1idIelfShEIF6HLLzBNBKenfP5QMMslg3rxQPx0fxsAVxrRp2fs7WrYMA8s1F3V1H928YFG4glmwIDtLUps2pdffuRz17x9KAXvsAV98Efqsn3QSTJwYhjUopRuXStndd2fX99gjOzxIc+DDUJeZ6qWBUhgHxYXGyLfegoqK7L7rrw+NyPE7xV1+mFVNBD/7WXqx5EOJjIThcsWHlyhd3bqFsYkOOyy77/nnYdAgeP/99OIqB5WV2bmmO3SA/ZvZqGieCMqMtw+Utvbt4d57wzy4GR9/HHqu/DvJUJCuUeKNxAcf3PyqVD0RlBlPBKVPgvPOg4cfzn4gzZsX5kS+8spQjeFyZ9myqhPNHHVUerHkS5L5CAZLekbSh5KmSvpE0tRCBOdyzxNB83HQQWH4iR7RiF4rV8IZZ8Bxx2XHv3FNN3o0ZAY97tYt3PXd3NQ76BxwK/AbYCywIr/huHzzRNC8bL11aEQ+8MDsnce33QaPPx56ha1cGUoI8Z+ZdQgjnvbps+rSs6f3RsqINxIfeWTznNo1SSKYa2Ze+9hM+DhDzU/XruFeg1/+Eu64I+xL2pNo3rxsI2hcy5YhGfTpEwbD++UvQzfWcjN3bkiqGc2tt1BGkjaCFyRdIekHkrbNLHmPzOWFlwiapzZtQkngr38N49801YoVMHUq/Oc/cM01MGQIfP11089bah5+GBYvDutbbVX6YwrVJkmJYPvoZ6wHMwb8KPfhuHzzRNB8SfDb34abzb79NkyTKFX9GV9fsSIMnjZlyqrLjBlVzz1rVigVPPJIed17Eu8t1FxLA5AgEZjZkEIE4grDE0Hz164ddO+e7Ni11w7fdKtbtCiUCMaMCYkF4LHHwgfj0UfnLtZi9umnYQYyCInziCNSDSev6pqP4IzaHgMws7/nPhyXb54IXBLt2oU2gf79YcIEuPHGsP/UU0M1UY8edT+/Objnnuz6brtlpxJtjupqI+hQz+JKkCcC11BXXAEbbRTW580LE7WvXJluTPlmVrVaqDneOxAnK7G7TyoqKqyysjLtMErSihXQKlYGXLas6rZztXnlFdh552y302uvhZOb8XyCb78NAweG9fbtw2xxa6yRbkxNJWmsmVXU9JjfWVxGZs/Ornfq5EnAJbfjjvC732W3zzwTPvoovXjyLV4aOOig0k8C9fFEUEa8Wsg1xUUXZe8lWLQojMe/ohneYrp8eRjPKaO5VwuBJ4Ky4onANUXbtuGbcqYk+dprof2guXn22VAVBLDeevDjH6cbTyF4r6Ey4onANdU228D554cFws+994YBA9KNK5fi1UJHHFEeVahJeg1VAL8CukXLiUC//Ifmcs0TgcuFc86B7bYL68uWhfsKMrPelbr588OE9BnN+SayuLpmKLvQzC4EOgPbmtlvzey3wEAg0e0qkvaSNFnSFEln1/D4hpJekPRONB/y3o19Ia5+Ps6Qy4VWreDOO0NVEcD48XDhhenGlCuPPhraPyC0h9R0s11zlKSNYEMgnu+XAr3qe5KklsB1wFBCCWKYpOolifOAB8xsG+Bw4PoE8bhG8hKBy5XNNoO//CW7/Ze/wOuvpxdPrlQfUqJchtNIkgjuAt6UdIGkPwJvAHcmeN4gYIqZTTWzpcB9QPUJ3gxYM1rvCMxMFrZrDE8ELpcydxlDuMFs+HBYuDDdmJri88/huefCuhSGnC4X9SYCM7sEOAaYDcwBjjGzPyc4dzfgs9j2jGhf3AXAUZJmAE8Bp9Z0IkknSKqUVDkrM0OEazBPBC6XWrQII552iMYZ+PBD+OMf042pKe65J3vD3JAhycdrag5qTQSS1ox+rg1MI5QM7gKmR/vqU1OhqvptzMOA282sO7A3cJekVWIys5vNrMLMKrp06ZLg0q4mnghcrvXsCSNGZLdvvrl0SwXlNKREdXWVCDJDLo0FKmNLZrs+M4D40FTdWbXq5zjgAQAzew1oS2icdnkQn6zEE4HLlWOOgb59w/q8efDQQ+nG0xiffALvvhvW27YNE9SXk7p6Df0k+tnbzDaKLb3NbKME534L2ERSb0mtCY3Bo6od8ynwYwBJmxMSgdf95ImXCFw+SGEguoxbb00vlsZ6663s+o47wppr1n5sc5TozmJJa0kaJGnnzFLfc8xsOXAKMBp4n9A7aJKkiyTtFx32W+AXksYD9wI/t1IbBa+EeCJw+TJ8eHYu3zFjQntBKYkngsw9EuWk3nvmJB0PnEao2hkH7AC8RoIZyszsKUIjcHzf+bH194DBDQvZNcbChdkp91q3zs10hs5lrLce7LMPjIrK/CNHVu1eWuziiaCixvE5m7ckJYLTgO2A6dFsZdvg1Tclp3ppoFz6R7vCOe647Podd4TB20rBypUwdmx2uxxLBEkSwWIzWwwgqY2ZfQBsmt+wXK55tZDLt733DiUDgC+/hKeeqvv4YjF5Mnz/fVjv2rW8uo1mJEkEMyR1Ah4DnpH0OH7jV8nx4SVcvrVqFdoKMkql0bh6+0A5lpaT3FB2oJnNMbMLgD8AtwIH5Dswl1teInCFEO899OST8MUX6cWSVHzCw3JsH4C6byhrK+l0SddK+qWkVmb2kpmNioaMcCXEE4ErhL59YaedwvqKFWFwumJX7j2GoO4SwR2EIajfJQwc97eCROTywhOBK5R4o/HIkdlhG4rRsmUwblx220sEq+pnZkeZ2U3AIcBOBYrJ5YEnAlcohxySvSHrww/DxPfFatKkbLfqDTeEdddNN5601JUIlmVWopvDXAnz4SVcoay+Ogwblt0u5kZjrxYK6koEW0maFy3zgQGZdUnzChWgyw0vEbhCilcPPfhgGIOoGHkiCOoaa6ilma0ZLR3MrFVsvcxG4ih9nghcIVVUwJZbhvWFC+G++9KNpzbeYyhINNaQK32eCFwhSVVLBcVYPbR4cXbEUYCBA9OLJW2eCMqEJwJXaEcdFca1AnjzTZg4Md14qhs3LjsMRt++0KlTuvGkyRNBGVixAmbPzm77ncWuENZZBw6I3XpabKUCrxbKqjcRSFo9M2uYpL6S9pO0Wv5Dc7kyZ062L3fHjmEoAOcKIV49dNddsGRJerFU5w3FWUlKBGOAtpK6Ac8R5i++PZ9BudzycYZcWnbbLfTPh/B3+Pjj6cYT54kgK0kikJktBA4CrjGzA4F++Q3L5ZK3D7i0tGgRprLMKJbqofnz4YMPwnqLFrD11unGk7ZEiUDSD4AjgSejfV65UEI8Ebg0HXNMdkTPZ56B6dPTjQfg7bez1aX9+/tETUknpjkHeDSaanIj4IX8huVyyROBS1PPnqGKCMKH7+23pxoO4NVC1SUZhnqMme1nZpdF21PN7Nf5D83lig8v4dIWbzS+7bYwK1iayn1qyuqS9BrqK+lmSf+R9HxmKURwLje8RODSdsAB2Y4K06fDc8+lG0+866iXCJJVDT0IvAOcB5wZW1yJ8ETg0tamTbjBLOOqq9KL5dtvYerUsN66dXYojHKWJBEsN7MbzOxNMxubWfIemcsZTwSuGJx4YrbR+MknQ4NtGuKlgQEDQpIqd0kSwROSTpK0vqS1M0veI3M544nAFYPNNw9zFWRcfHE6cXi10KqSJILhhKqg/wJjo6WyzmdEJO0labKkKZLOruHxKyWNi5YPJc1pSPAuGU8Erlicd152/dFHYcKEwsfgPYZWlaTXUO8alo3qe56klsB1hGku+wHDJFW5Ec3MfmNmW5vZ1sA1wCONexmuLp4IXLEYMKDq+EOXXFL4GDwRrCrRoHOStpB0qKSjM0uCpw0CpkTdTZcC9wH713H8MODeJPG4hvFE4IpJvFTw4IPw/vuFu/bMmWEBaN8eNtuscNcuZkm6j/6R8G39GmAIcDmwX4JzdwM+i23PiPbVdI2eQG+gxm6pkk6QVCmpctasWQku7TIWLQoLhMHm1lgj3XicGzgQ9tknrJsVtlQQbx/YdlsfgDEjSYngEODHwJdmdgywFZCknV017LNajj0ceMjMVtT0oJndbGYVZlbRpUuXBJd2GdVLA6rpt+Jcgf3hD9n1e++Fjz4qzHW9WqhmSRLBIjNbCSyXtCbwNVBvGwGhBNAjtt0dmFnLsYfj1UJ54dVCrhhtvz3ssUdYX7kS/vznwlzX5yCoWZJEUCmpE3ALocfQ28CbCZ73FrCJpN6SWhM+7EdVP0jSpsBawGuJo3aJ+fASrlidf352/a67sjd55YuZlwhqk6TX0ElmNsfMbgR2B4ZHVUT1PW85cAowGngfeCAatO4iSfE2hmHAfWZWW7WRawIvEbhiNXgwDBkS1lesgL/8Jb/XmzYt+//QsSP06ZPf65WSRE0l0Qf3ztHmS0Ci3r9m9hTwVLV951fbviDJuVzjeCJwxez88+GFaCzj228PPYoyE9nkWvVqIW8vy0rSa+gvhKGo34uWX0u6NN+BudzwROCK2S67wI47hvVly+Cyy/J3La8Wql2SNoK9gd3NbKSZjQT2AvbJbxjMAeQAAB1eSURBVFguVzwRuGImVW0r+Mc/4PPP83MtTwS1S3RDGdAptt4xH4EUwpQpsHBh2lEUlicCV+x22y30IgJYuhSuuCL311i5EsbGhsr0HkNVJUkElwLvSLpd0h2EnkMF6uyVG+PHw6GHwqabwsiRaUdTWJ4IXLGrXiq46Sb48svcXuPDD8M8xQDrrgs9etR9fLlJ0mvoXmAHwjhAjwA/AMbkOa6cevnlcCv7ypXwt7/B8uVpR1Q4nghcKRg6NNxxDLB4cfg/zaXq1ULeUFxVoqohM/vCzEaZ2eNm9iXwep7jyqljj4XOncP6tGnwwAOphlNQnghcKZCq3m18/fWQy9Fk/EayuiVtI6iupPJp+/Zw6qnZ7csvDzeXlIN4IljbZ5FwRWy//cLopBDa8q68Mnfn9obiujU2EZTcx+jJJ4eEAKHNYPTodOMphJUrYfbs7LYnAlfMqpcKrrmm6p3xjbVsGbzzTnbbSwSrqjURSLpG0tU1LNdQtRdRSVhnHfjFL7Lb+eyvXCzmzg3JAKBDhzA/q3PF7KCDoF80a8n33+fm//S990K7A4RG4q5dm37O5qauEkEl2RnJ4kslcGodzytaZ5yRHXb2xRfhzSQjJpUwbx9wpaZFC/jjH7PbV10Fn31W+/FJeLVQ/WodYsLM7ihkIIWw4YYwbFgY4ArCt42HH043pnzyROBK0SGHhOqbykpYsiR0Lb3ttsafzxNB/RrbRlCyzjoru/7oozB5cnqx5JsnAleKWrQIHToy7rij8XMbm8FrsXGNPRHUrOwSwRZbVJ0dKR93MRYLTwSuVA0ZAnvvHdbN4OyzG3ee226Dd98N661aZe9VcFXV1Vh8WfTzp4ULpzB+//vs+l13ZecwbW48EbhSdtlloXQA8O9/w/M1TmRbu2nT4PTTs9snnQSdSq6bS2HUVSLYW9JqwDmFCqZQdtwRfvCDsL50KYwYkW48+eKJwJWyLbaA4cOz22edle0FV5+VK8ONpJlhJTbZBC71MZNrVVcieBr4BhggaZ6k+fGfBYovL6SqpYIbb4Q5c9KLJ188EbhSd9FF0LZtWB87Fu6/P9nzrr02O89BixZw553Z+4jcqmpNBGZ2ppl1BJ40szXNrEP8ZwFjzIt994XNNw/r8+eHZNDceCJwpa5796rVO+eeG3oS1WXy5Kpf9H7/e9hhh/zE11wkGXRuf0ldJf0kWroUIrB8a9ECzjwzuz1iRPamk+bCh5dwzcHZZ2e/yHzyCdxwQ+3HLl8eqpMy/8sDBlS9L8HVLMkMZT8lTFb/U+BQ4E1Jh+Q7sEI48kjo1i2sf/VVKD42J14icM1Bx45hCsuMP/2p9qrcyy+HN94I66utFv6n27TJf4ylLkn30fOA7cxsuJkdDQwC/lDPc0pC69bwm99kt6+4Ikyi3VzEx2nxROBK2a9+Bb17h/Xvvqt56Inx4+GCC7LbF1wAW21ViOhKX5JE0MLMvo5tf5vweSXhhBOyXcqmTAk3mTUXXiJwzUWbNnDJJdntESOqDj2xZAkcfXQYYA7CjGfxm0dd3ZJ8oD8tabSkn0v6OfAk8FR+wyqcDh1C/+KMyy5rHkNUL1kCCxaE9VatYM2Sb9535e6ww6pOXhOv+7/wwuzdx23bhruRW9U6gI6rTpbgU0/SQcCOhHkIxphZat+bKyoqrDI+y0QOfPUV9OyZ7Y3w3HPwox/l9BIFN3Nmtv1j3XXDa3Su1L3wQvZ/UwrVQQsWwODB2XsMRoyA005LL8ZiJWmsmdU4CHfSGcoeMbMzzOw3DUkCkvaSNFnSFEk13iQu6VBJ70maJOmepOfOpa5d4ZhjstvNYYhqrxZyzdGQIWFaSwgl9zPOCL2EMklgyJCqk1C5ZPJW1y+pJXAdMBToBwyT1K/aMZsQ7lwebGb9gdNXOVGB/O532dvZ//OfqhNZlCJPBK65uuyy7JzDzz4bJqaHUM07cmT2/9gll8+3bBAwxcymmtlS4D5g/2rH/AK4zsxmA1RrlC6ojTcOw99m3HprWpHkhicC11xtuWXVoScyrrwSevUqeDjNQqJEIKmdpE0beO5uQHxKiRnRvri+QF9Jr0p6XdJetVz/BEmVkipn5XJG62ri1UNjx+btMgXhicA1Z/GhJyCMKHzssenFU+qS3FC2LzCOMPYQkraWNCrBuWua4L56y3QrYBNgV2AY8A9Jq4wPaGY3m1mFmVV06ZK/G5u32Sa7/u67pX1PgScC15z16JEdRG7jjeGWW7LVRa7hkpQILiBU88wBMLNxQK8Ez5sB9IhtdweqD/g8A3jczJaZ2SfAZEJiSEXXrrDeemF9wQL4+OO0Imk6TwSuuTv9dPj889BtdP31046mtCVJBMvNbG4jzv0WsImk3pJaA4cD1UsSjwFDACR1JlQVTW3EtXImfifiuHHpxdFUPs6QKwcbbOCjiuZCkkQwUdIRQEtJm0i6BvhvfU8ys+XAKcBo4H3gATObJOkiSftFh40GvpX0HvACcKaZfVvzGQtj662z6+PHpxdHU/nwEs65pJLce3cqcC6wBLiX8OH9pyQnN7OnqHYXspmdH1s34IxoKQrNsUTgicA5V5d6E4GZLSQkgnPzH076mkuJwBOBcy6pehOBpCdYtbfPXKASuMnMmtUo/n37Qrt2sGhRaIiaNQvy2FEpbzwROOeSStJGMBX4HrglWuYBXxEadm/JX2jpaNkyzJWaUYqlAjNvI3DOJZekjWAbM9s5tv2EpDFmtrOkSfkKLE1bbw1vvRXWx4+H3XZLN56Gmjs3ew/EGmuEeRecc642SUoEXSRtmNmI1jtHm0vzElXKSr3B2KuFnHMNkaRE8FvgFUkfE+4W7g2cJGl14I58BpeWUm8w9kTgnGuIJL2GnopGCd2MkAg+iDUQj8hncGkZMCC7/v77YRKM+Lgmxc4TgXOuIZKOProJsCkwADhU0tH5Cyl9HTqE8UsAli+H995LN56G8kTgnGuIJIPO/RG4JlqGAJcD+9X5pGaglKuHPBE45xoiSYngEODHwJdmdgywFdAmr1EVgVJuMI53HfVxhpxz9UmSCBaZ2UpguaQ1ga+BjfIbVvriJYJSSwReInDONUSSXkOV0RwBtwBjCTeXvZnXqIpAvEQwfny4SatUxjv3ROCca4gkvYZOilZvlPQ0sKaZTchvWOnr0QPWWgtmzw43aE2fXjrT4HkicM41RJLG4ucy62Y2zcwmxPc1V1LpNhh7InDONUStiUBSW0lrA50lrSVp7WjpBWxQqADTVKoNxp4InHMNUVfV0C+B0wkf+mPJzkE8D7guz3EVhVJtMPZE4JxriFoTgZldBVwl6VQzu6aAMRWN6g3GpWDpUvj++7DesiV07JhuPM654peksfgaST8kTFjfKrb/zjzGVRT69YPVVoNly+CTT0KjcbF/sFafq7hUejo559KTpLH4LuCvwI7AdtFSkee4ikLr1iEZZEwogb5SXi3knGuoJPcRVAD9ovmFy85WW2WrhcaNg512Sjee+viENM65hkpyZ/FEYL18B1KsSq3B+I03suvrr59eHM650pGkRNAZeE/Sm8CSzE4za/YDz0HpNRj/85/Z9X32SS8O51zpSJIILmjsySXtBVwFtAT+YWZ/qfb4z4ErgM+jXdea2T8ae718iCeCiRPDsNStkrxrKZg0KZus2raFgw5KNx7nXGmot2rIzF4CpgGrRetvAW/X9zxJLQn3GwwF+gHDJPWr4dD7zWzraCmqJAChnr1Hj7C+ZAlMnpxuPHW5557s+r77wpprpheLc650JOk19AvgIeCmaFc34LEE5x4ETDGzqWa2FLgP2L+xgaapFO4wNquaCI44Ir1YnHOlJUlj8cnAYMIdxZjZR8C6CZ7XDfgstj0j2lfdwZImSHpIUo+aTiTpBEmVkipnzZqV4NK5VQoNxq+9BtOmhfVOnWDo0FTDcc6VkCSJYEn0jR4ASa2AJF1Ja7qVqfrzngB6mdkA4FngjppOZGY3m1mFmVV06dIlwaVzqxQajOONxD/9KbRp9lMHOedyJUkieEnS/wHtJO0OPEj4AK/PDCD+Db87MDN+gJl9a2aZnki3AAMTnLfgqpcIiu2OimXL4IEHstteLeSca4gkieBsYBbwLmEguqeA8xI87y1gE0m9JbUGDgdGxQ+QFO/pvh/wfpKgC22jjWCNNcL6rFnw5ZfpxlPdM8/AN9+E9e7dYeed043HOVdaknSEbAeMNLNb4H+9gdoBC+t6kpktl3QKMJrQfXSkmU2SdBFQaWajgF9L2g9YDnwH/LzRrySPWrSAAQPgv/8N2+PGFdfNWvFqoWHDQrzOOZdUko+M5wgf/BntCPX59TKzp8ysr5ltbGaXRPvOj5IAZnaOmfU3s63MbIiZfdDQF1AoxdpgvGABPBbrw+XVQs65hkqSCNqa2feZjWi9ff5CKk7F2mD8+OOwMCqb9etXNU7nnEsiSSJYIGnbzIakgcCi/IVUnIq1RBCvFjriCB922jnXcEnaCE4DHpSU6fGzPnBY/kIqTltsEereV66EDz8MVTKrr55uTLNmwejR2W2vFnLONUadiUBSC6A1sBmwKeHegA/MbFkBYisq7dtD377wwQeh++jEibD99unG9OCDsGJFWP/hD6F373Tjcc6VpjqrhsxsJfA3M1tmZhPN7N1yTAIZxVY95ENKOOdyIUkbwX8kHSx57XMxNRhPmwavvhrWW7aEQw9NNRznXAlL0kZwBrA6sELSIkL1kJlZ2Y1t2dASwZw5cP/9IYHssENuY4mXBvbcE1IYecM510wkmby+QyECKQXxEsGECaHhuLabtyorw5g/06aFcX8mToQ+fXITh9mqvYWcc66xkgxDLUlHSfpDtN1D0qD8h1Z81lsP1o3GXV2wAD7+eNVjzOCmm2Dw4OxooEuWwF135S6OCRPgvffCevv2sH9JDu7tnCsWSdoIrgd+AGS+d35PmHCm7Eh1Vw8tWABHHw0nnghLl1Z97IEHcjdYXbw0cMAB2XGQnHOuMZIkgu3N7GRgMYCZzSZ0KS1LtTUYT54cupPefXd234AB2XsNPvgA3n236ddfuRLuvTe77dVCzrmmSpIIlkUDzRmApC7AyrxGVcRqKhE8+CBUVIQ5gzOOOQZefz1MGZlx//1Nv/7LL8OMGWF9nXVgjz2afk7nXHlLkgiuBh4F1pV0CfAK8Oe8RlXE4iWCt9+G008PXTe/j0ZjatsWbr0VRo6Edu3gsNg92Pff3/TqoXhvoUMPhdVWa9r5nHNOluCTSdJmwI8JXUefM7PU5g2oqKiwysrKtC7P8uWhTn7JklUf23hjeOihqqWGxYuha1eYNy9sV1bCwEZOv7N0aWiwnj07bL/ySmiUds65+kgaa2YVNT1Wa4lAUltJp0u6FtgFuMnMrk0zCRSDVq1gyy1X3X/AAeFDPp4EIJQQ4r16mlI99O9/Z5NAr15hWAnnnGuquqqG7gAqCDOTDQX+WpCISsA222TXW7aEyy+HRx4Jk8bXJF491JTeQ/FqoWHDfKRR51xu1Fo1JOldM9syWm8FvGlm29Z4cAGlXTUEoVF46NBQRXTjjfVPDVm9Sue11xp+p/G334ZpKBcvDtsTJ0L//g2P3TlXnhpVNQT8b3A5M1ue86hKWP/+4Wax995LNj9w69Zw4IHZ7cZUD115ZTYJbLONJwHnXO7UlQi2kjQvWuYDAzLrkuYVKsBi1dB5geODwj34YLgfIKnZs+Hqq7Pbv/99w67tnHN1qfXjzMxamtma0dLBzFrF1stuwLmm+tGPQr9/gM8/z44cmsSIETB/fljfbDM45JDcx+ecK18N/F7rGmu11eDgg7PbSauH5syBq67Kbv/hD6GB2jnncsUTQQHFew899FB2drG6XH01zJ0b1vv2rXoO55zLBU8EBbTLLuHmMoCvvoKXXqr7+HnzQiNxxnnneWnAOZd7eU0EkvaSNFnSFEln13HcIZJMUo1dm5qLli2r1u8/8EDdx19zTagagjCXwbBh+YvNOVe+8pYIooHqriPcjNYPGCapXw3HdQB+DbyRr1iKSbxq5+GHw5AVNZk/H/7+9+z2ueeGu5qdcy7X8lkiGARMMbOpZrYUuA+oaQqVPwGXEw1z3dwNHgzduoX1b76B55+v+bjrroPvvgvrvXvDkUcWJj7nXPnJZyLoBnwW254R7fsfSdsAPczsX3WdSNIJkiolVc6aNSv3kRZQixZhCsuMmnoPff89/O1v2e1zz/VRRp1z+ZPPRFDTSDj/G89CUgvgSuC39Z3IzG42swozq+jSDGZpj1cPPfLIqrOZ3XBDKC0A9OwJP/tZ4WJzzpWffCaCGUCP2HZ3YGZsuwOwBfCipGnADsCo5t5gDGEms549w/qcOfDMM9nHFi6EK67Ibv/f/4UhKpxzLl/ymQjeAjaR1FtSa+BwYFTmQTOba2adzayXmfUCXgf2M7N0R5QrAKnqkBPx6qEbb4RM7VePHvDznxc0NOdcGcpbIogGqjsFGA28DzxgZpMkXSRpv3xdt1TEE8Fjj4UB5RYtCkNaZ5xzjpcGnHP5l9cOiWb2FPBUtX3n13LsrvmMpdgMHAgbbQRTp4auok8/DdOnhxvNIPQsOvbYdGN0zpUHv7M4JVLVRuM77oDLLstun302tGlT+Licc+XHE0GK4ongscfgiy/C+vrrw/HHpxOTc678eCJI0YABsOmmq+7//e/DXMfOOVcInghSVL16CMKgdCeckE48zrny5IkgZdUTwVlnQbt26cTinCtPnghS1q8f7L57WO/TB048Md14nHPlx8ezLAIPPghjxsAOO0D79mlH45wrN54IikDHjrDvvmlH4ZwrV1415JxzZc4TgXPOlTlPBM45V+Y8ETjnXJnzROCcc2XOE4FzzpU5TwTOOVfmZGb1H1VEJM0CpqcdRwN1Br5JO4gm8tdQHPw1FIdSfA09zazGSd9LLhGUIkmVZlbSczH7aygO/hqKQ3N4DXFeNeScc2XOE4FzzpU5TwSFcXPaAeSAv4bi4K+hODSH1/A/3kbgnHNlzksEzjlX5jwROOdcmfNE0AiSRkr6WtLE2L6tJL0m6V1JT0haM9q/mqQ7ov3vSzon9pxp0f5xkiqL+DW0lnRbtH+8pF1jzxkY7Z8i6WpJKsHX8KKkydHvYZykdQv4GnpIeiH625gk6bRo/9qSnpH0UfRzrWi/ovd5iqQJkraNnWt4dPxHkoaX6GtYEfs9jCri17BZ9He2RNLvqp1rr+jvaYqkswv1GprEzHxp4ALsDGwLTIztewvYJVo/FvhTtH4EcF+03h6YBvSKtqcBnUvgNZwM3BatrwuMBVpE228CPwAE/BsYWoKv4UWgIqXfw/rAttF6B+BDoB9wOXB2tP9s4LJofe/ofRawA/BGtH9tYGr0c61ofa1Seg3RY9+XyO9hXWA74BLgd7HztAQ+BjYCWgPjgX5pvKaGLF4iaAQzGwN8V233psCYaP0Z4ODM4cDqkloB7YClwLxCxFmXBr6GfsBz0fO+BuYAFZLWB9Y0s9cs/BfcCRyQ79gzcvEaChBmnczsCzN7O1qfD7wPdAP2B+6IDruD7Pu6P3CnBa8DnaLfw57AM2b2nZnNJrz2vUrsNaSmoa/BzL42s7eAZdVONQiYYmZTzWwpcF90jqLmiSB3JgL7Res/BXpE6w8BC4AvgE+Bv5pZ5sPLgP9IGivphEIGW4vaXsN4YH9JrST1BgZGj3UDZsSePyPal6aGvoaM26LqiD8UsnorTlIvYBvgDaCrmX0B4UOK8A0Uwvv7Wexpmfe8tv0F1cTXANBWUqWk1yUV7EtFXMLXUJui+D00lCeC3DkWOFnSWELRcmm0fxCwAtgA6A38VtJG0WODzWxbYGj03J0LHHN1tb2GkYQ/6EpgBPBfYDmhaF9d2v2RG/oaAI40sy2BnaLlZwWNGJC0BvAwcLqZ1VVirO09T/13kYPXALChhaEbjgBGSNo4x2HWqQGvodZT1LAv7f+JenkiyBEz+8DM9jCzgcC9hHpCCH/QT5vZsqhK4lWiKgkzmxn9/Bp4lJA0UlPbazCz5Wb2GzPb2sz2BzoBHxE+WLvHTtEdmFnouOMa8Rows8+jn/OBeyjw70HSaoQPn3+a2SPR7q8y1SXRz6+j/TOoWpLJvOe17S+IHL2G+P/EVELbzTZ5Dz7SwNdQm1R/D43liSBHMj1NJLUAzgNujB76FPhR1FNidULj2AeSVpfUIXrO6sAehGqN1NT2GiS1j2JE0u7AcjN7Lyoqz5e0Q1SdcjTweDrRBw19DVFVUedo/2rATyjg7yF6324F3jezv8ceGgVkev4MJ/u+jgKOjv6edgDmRr+H0cAektaKerbsEe0rmdcQxd4mOmdnYDDwXpG+htq8BWwiqbek1sDh0TmKW9qt1aW4EL5pfkFoKJoBHAecRuhp8CHwF7J3ba8BPAhMIvxRnxnt34hQbz0+euzcIn4NvYDJhAa0ZwnD2WbOU0H44PwYuDbznFJ5DcDqhB5EE6Lfw1VAywK+hh0JVQcTgHHRsjewDqFx+6Po59rR8QKui97vd4n1diJUi02JlmNK7TUAP4y2x0c/jyvi17Be9Dc3j9DxYAah4wTR8z6MXl9B/68bu/gQE845V+a8asg558qcJwLnnCtzngicc67MeSJwzrky54nAOefKnCcCl7qoP/krkobG9h0q6ekcX+diSafn8pwJrvmkpJcLec3GknS8pBFpx+EKzxOBS52FPswnAn+X1Da68esSwoihjRYN9JcaSesAWwJdJW2Yo3MqulnOuZzxPyhXFMxsIvAE8Hvgj4TRKT9WGGP/zWhAuOszH4KSbo4GJ5sk6fzMeSTNiAaOexU4MMm1JZ0laWK0nBrb/0Q0IOAkScdH+1pJmiPpLwrzGrym2ucvOAR4DLgfOCx23rsl3SDpZUkfZkpC0TfyRyWNVhjP/rxof58othuBt4H1JR2lMLfCREl/jo47NbMeO9+V0Xpt7+PxUQwvEu56d+Uo7TvafPElsxDu8p1MuKu0DbAF4YO0VfT4zcAR0XrmDs9WwMtEY74T7vA8o5bzX0wYTCy+bxDhTtb2hEHq3gcGVLtGe8Jd4WtF1zOieReAvxONV1/D9V4kzNXQD3g7tv9u4F+EL2KbEkarbAMcD3weXWf16JpbA32AlcB20fO7E81lAawGvEQYGmM94MPYdZ4hfLjX+D5G55lOuHu2NfA6MCLtvwNfCr+kWnR2Ls7MFki6nzA5yRJJuxEm/6gMQ8HQjuwQv8MkHUf4YN6A8GGbGZfm/gZcdifgYTNbCCDpMcJwAxOA30jKDGndHdiYMPTAIjP7d7R/bHSOKiR1AzYEXjczk9RS0mZm9kF0yANmthKYLOkzYJNo/2gL8wnEY3ka+NjC+PcA2wPPm9k30XH3ADub2b+iElEFYYyr3oShlE+r5X1cCjxnZt9G53kgitmVGU8ErtisjBYIY9KMNLM/xA+QtAnhw22Qmc2RdDfQNnbIggZcr8a5B6IktDOwg5ktkvRK7BpLY4euoOb/o8MI37Q/iT58OxIGILsgerz62C5Wz/74a6prvoT7gUMJJYaHoyRU2/t4SA3Xc2XI2whcMXsWOFTZ0UHXiRpd1wTmA/OUnZ2rscYAB0pqpzAW/f6EqqaOwHdREuhP+EbdEMOA3cysl5n1IlRBDYs9/tOo4bcvYdjij6L9e0jqJKl9FMurNZz7dWBI9H60IiSYl6LHHgIOivZlSka1vY+vAz9WmJe3NaFNw5UhLxG4omVm70q6EHg2atxcRuhdVEmoBppImJu3pg/L2lyg7GTjy82sl6R7CcMHA9wQXfcj4ARJ44EPCFUsiShMprJeFGfmtXykMNH5wGjXFEISWhc4wcyWRiWHVwhzImwM3GVm4yT1iZ/fzGZEDeQvEkoHT5jZk9Fj30qaAmxs2akXa3wfzewtSRcTEsLMeLyuvPjoo84VWFSV9ZCZPVZt//HAFmZW0HsdnPOqIeecK3NeInDOuTLnJQLnnCtzngicc67MeSJwzrky54nAOefKnCcC55wrc/8P+Mol6hYUwfwAAAAASUVORK5CYII=\n",
      "text/plain": [
       "<Figure size 432x288 with 1 Axes>"
      ]
     },
     "metadata": {
      "needs_background": "light"
     },
     "output_type": "display_data"
    }
   ],
   "source": [
    "fig = plt.figure()\n",
    "ax = fig.add_subplot(111)\n",
    "ax.plot(approved.index, approved['P I F'], color='blue', linewidth=3)\n",
    "plt.xlabel('Year Loan Approved')\n",
    "plt.ylabel('Percentage of Loans Paid In Full')\n",
    "plt.title('Colorado SBA Loans PIF by Year')\n",
=======
   "execution_count": null,
   "metadata": {},
   "outputs": [],
   "source": [
    "plt.hist(co_data['DisbursementGross'], bins = 30)\n",
>>>>>>> 41c363da893b1a9c003edc368473a0bf91d72704
    "plt.show()"
   ]
  },
  {
   "cell_type": "code",
   "execution_count": null,
   "metadata": {},
   "outputs": [],
   "source": []
  }
 ],
 "metadata": {
  "kernelspec": {
   "display_name": "Python 3",
   "language": "python",
   "name": "python3"
  },
  "language_info": {
   "codemirror_mode": {
    "name": "ipython",
    "version": 3
   },
   "file_extension": ".py",
   "mimetype": "text/x-python",
   "name": "python",
   "nbconvert_exporter": "python",
   "pygments_lexer": "ipython3",
   "version": "3.7.6"
  }
 },
 "nbformat": 4,
 "nbformat_minor": 4
}
